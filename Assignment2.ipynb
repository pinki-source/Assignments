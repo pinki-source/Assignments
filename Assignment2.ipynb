{
 "cells": [
  {
   "cell_type": "markdown",
   "metadata": {},
   "source": [
    "Assignment2"
   ]
  },
  {
   "cell_type": "markdown",
   "metadata": {},
   "source": [
    "1. Write a program which accepts a sequence of comma-separated numbers from console  and generate a list. \n"
   ]
  },
  {
   "cell_type": "code",
   "execution_count": null,
   "metadata": {},
   "outputs": [],
   "source": [
    "l=list(map(int,input().split(\",\")))"
   ]
  },
  {
   "cell_type": "markdown",
   "metadata": {},
   "source": [
    "2. Create the below pattern using nested for loop in Python. \n",
    "    1                                                                                                                           \n",
    "    1 1                                                                                                                         \n",
    "    1 1 1                                                                                                                       \n",
    "    1 1 1 1                                                                                                                     \n",
    "    1 1 1 1 1                                                                                                                   \n",
    "    1 1 1 1                                                                                                                     \n",
    "    1 1 1                                                                                                                       \n",
    "    1 1                                                                                                                         \n",
    "    1                                                                                                                          \n"
   ]
  },
  {
   "cell_type": "code",
   "execution_count": null,
   "metadata": {},
   "outputs": [],
   "source": [
    "for i in range(1,11):\n",
    "    if i<6:\n",
    "        count=i\n",
    "    else:\n",
    "        count=10-i\n",
    "    for i in range(count):\n",
    "        print(\"*\",end=\"\")\n",
    "    print()"
   ]
  },
  {
   "cell_type": "markdown",
   "metadata": {},
   "source": [
    "3. Write a Python program to reverse a word after accepting the input from the user.\n",
    "Sample Output: \n",
    "Input word: ineuron \n",
    "Output: norueni\n",
    "\n"
   ]
  },
  {
   "cell_type": "code",
   "execution_count": null,
   "metadata": {},
   "outputs": [],
   "source": [
    "word=input()\n",
    "print(word[::-1])"
   ]
  },
  {
   "cell_type": "code",
   "execution_count": null,
   "metadata": {},
   "outputs": [],
   "source": []
  }
 ],
 "metadata": {
  "kernelspec": {
   "display_name": "Python 3",
   "language": "python",
   "name": "python3"
  },
  "language_info": {
   "codemirror_mode": {
    "name": "ipython",
    "version": 3
   },
   "file_extension": ".py",
   "mimetype": "text/x-python",
   "name": "python",
   "nbconvert_exporter": "python",
   "pygments_lexer": "ipython3",
   "version": "3.7.6"
  }
 },
 "nbformat": 4,
 "nbformat_minor": 4
}
